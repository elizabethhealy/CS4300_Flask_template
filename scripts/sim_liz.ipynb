{
 "cells": [
  {
   "cell_type": "markdown",
   "metadata": {},
   "source": [
    "# For some reason the other sim says unable to open"
   ]
  },
  {
   "cell_type": "code",
   "execution_count": 1,
   "metadata": {},
   "outputs": [],
   "source": [
    "\n",
    "import pandas as pd \n",
    "import sim \n",
    "import json\n",
    "from sklearn.feature_extraction.text import TfidfVectorizer\n",
    "import numpy as np\n",
    "from tqdm.notebook import tqdm"
   ]
  },
  {
   "cell_type": "code",
   "execution_count": null,
   "metadata": {},
   "outputs": [
    {
     "name": "stdout",
     "output_type": "stream",
     "text": [
      "recipe mat\n",
      "movie mat\n"
     ]
    }
   ],
   "source": [
    "df = pd.read_csv(\"../data/clean_recipes.csv\", sep=\";\")\n",
    "df.head()\n",
    "recipe_list = df[\"Recipe Name\"].tolist()\n",
    "with open(\"../data/movie_food_words_from_wordnets_top2_edited_2.json\") as json_file:\n",
    "    movie_list = json.load(json_file)\n",
    "recipe_mat, vectorizer = sim.build_vectorizer(recipe_list)\n",
    "print(\"recipe mat\")\n",
    "movie_mat = sim.get_movie_tfidfs(movie_list, vectorizer)\n",
    "print(\"movie mat\")\n",
    "res = sim.get_cos_sim(recipe_mat, movie_mat)\n",
    "print(\"cos mat\")\n",
    "df = pd.DataFrame(res, index=movie_list.keys(), columns=recipe_list)\n",
    "print(df)"
   ]
  },
  {
   "cell_type": "code",
   "execution_count": null,
   "metadata": {},
   "outputs": [],
   "source": [
    "df.to_csv(\"../data/movie_recipe_mat_top2_edited_2.csv\")"
   ]
  },
  {
   "cell_type": "code",
   "execution_count": null,
   "metadata": {},
   "outputs": [],
   "source": []
  }
 ],
 "metadata": {
  "kernelspec": {
   "display_name": "Python 3",
   "language": "python",
   "name": "python3"
  },
  "language_info": {
   "codemirror_mode": {
    "name": "ipython",
    "version": 3
   },
   "file_extension": ".py",
   "mimetype": "text/x-python",
   "name": "python",
   "nbconvert_exporter": "python",
   "pygments_lexer": "ipython3",
   "version": "3.7.6"
  }
 },
 "nbformat": 4,
 "nbformat_minor": 2
}
